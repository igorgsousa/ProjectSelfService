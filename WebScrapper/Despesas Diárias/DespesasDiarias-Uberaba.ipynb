{
 "cells": [
  {
   "cell_type": "code",
   "execution_count": 44,
   "metadata": {},
   "outputs": [],
   "source": [
    "#Imports\n",
    "import datetime\n",
    "from selenium import webdriver\n",
    "from datetime import timedelta\n",
    "from selenium.webdriver.support import expected_conditions as EC\n",
    "from selenium.webdriver.support.ui import WebDriverWait\n",
    "from selenium.webdriver.common.by import By\n",
    "\n",
    "\n"
   ]
  },
  {
   "cell_type": "code",
   "execution_count": 27,
   "metadata": {},
   "outputs": [],
   "source": [
    " class SystemDataSource:\n",
    "        \n",
    "    source = \"\"\n",
    "    initialDate = \"\"\n",
    "    useIframe = False\n",
    "    iframeId = \"\"\n",
    "    initialDateHtmlElementId = \"\"\n",
    "    finalDateHtmlElementId = \"\"\n",
    "\n",
    "    def __init__(self):\n",
    "        self.data = []"
   ]
  },
  {
   "cell_type": "code",
   "execution_count": 88,
   "metadata": {},
   "outputs": [],
   "source": [
    "#Instacia um objeto datasource com as informações da prefeitura de Uberaba-MG\n",
    "dataSource = SystemDataSource()\n",
    "dataSource.source = \"http://www.uberaba.mg.gov.br/portal/conteudo,13641\"\n",
    "#dataSource.initialDate = datetime.date(2010,5, 27)\n",
    "dataSource.initialDate = datetime.date(2017,11, 23)\n",
    "dataSource.useIframe = True\n",
    "dataSource.iframeId = \"iframeContabil\"\n",
    "dataSource.initialDateHtmlElementId = \"dtInicial\"\n",
    "dataSource.finalDateHtmlElementId = \"dtFinal\"\n",
    "\n",
    "DATE_PATTERN = \"%d/%m/%Y\""
   ]
  },
  {
   "cell_type": "code",
   "execution_count": 89,
   "metadata": {
    "scrolled": true
   },
   "outputs": [],
   "source": [
    "#Instacia o webdriver do navegador Chrome\n",
    "navigator = webdriver.Chrome()\n",
    "\n",
    "#Navega para a página da prefeitura da cidade\n",
    "navigator.get(dataSource.source)\n",
    "\n",
    "#Verifica se a página utiliza iframe\n",
    "if(dataSource.useIframe):\n",
    "    navigator.switch_to_frame(navigator.find_element_by_id(dataSource.iframeId))\n",
    "\n",
    "#Instancia um webDriverWait para podermos fazer com que o navegador espere algum evento externo    \n",
    "wait = WebDriverWait(navigator, 10)    \n",
    "\n",
    "dateTimeLoop = dataSource.initialDate\n",
    "dateTimeNow = datetime.datetime.now().date()\n",
    "\n",
    "while(dateTimeLoop <= dateTimeNow):\n",
    "    \n",
    "    initialDateValue = dateTimeLoop.strftime(DATE_PATTERN)\n",
    "    dateTimeLoop = dateTimeLoop + timedelta(days=10)\n",
    "    finalDateValue = dateTimeLoop.strftime(DATE_PATTERN)\n",
    "    dateTimeLoop = dateTimeLoop + timedelta(days=1)\n",
    "\n",
    "\n",
    "    #Altera a data inicial da busca dos filtros\n",
    "    initialDateObject  = navigator.find_element_by_id(dataSource.initialDateHtmlElementId)\n",
    "    initialDateObject.click()\n",
    "    initialDateObject.send_keys(initialDateValue)\n",
    "    wait.until(EC.text_to_be_present_in_element_value((By.ID, dataSource.initialDateHtmlElementId),initialDateValue))\n",
    "\n",
    "    #Altera a data final da busca dos filtros\n",
    "    finalDateObject = navigator.find_element_by_id(dataSource.finalDateHtmlElementId)\n",
    "    finalDateObject.click()\n",
    "    finalDateObject.send_keys(finalDateValue)\n",
    "    wait.until(EC.text_to_be_present_in_element_value((By.ID, dataSource.finalDateHtmlElementId),finalDateValue))\n",
    "\n",
    "    #Clica no botão para fazer a consulta\n",
    "    navigator.find_element_by_id(\"btnEnviar\").click()\n",
    "\n",
    "    #Aguarda até o retorno do AJAX\n",
    "    wait.until(EC.visibility_of_element_located((By.ID, \"divResult1\")))\n",
    "\n",
    "    #Clica no botão para fazer o download\n",
    "    navigator.find_element_by_class_name(\"buttons-csv\").click()\n",
    "\n",
    "navigator.switch_to_default_content()\n",
    "\n",
    "#navigator.close()\n",
    "\n"
   ]
  }
 ],
 "metadata": {
  "kernelspec": {
   "display_name": "Python 3",
   "language": "python",
   "name": "python3"
  },
  "language_info": {
   "codemirror_mode": {
    "name": "ipython",
    "version": 3
   },
   "file_extension": ".py",
   "mimetype": "text/x-python",
   "name": "python",
   "nbconvert_exporter": "python",
   "pygments_lexer": "ipython3",
   "version": "3.6.5"
  }
 },
 "nbformat": 4,
 "nbformat_minor": 2
}
